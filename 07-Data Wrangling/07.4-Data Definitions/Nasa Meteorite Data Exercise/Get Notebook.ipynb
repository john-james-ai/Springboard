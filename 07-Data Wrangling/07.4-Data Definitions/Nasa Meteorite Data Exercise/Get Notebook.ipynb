{
 "cells": [
  {
   "cell_type": "markdown",
   "metadata": {},
   "source": [
    "# Nasa Meteorite Data Exercise\n",
    "This script downloads the jupyter notebook from github."
   ]
  },
  {
   "cell_type": "code",
   "execution_count": 1,
   "metadata": {},
   "outputs": [],
   "source": [
    "import requests\n",
    "url = 'https://github.com/springboard-curriculum/pandas-profiling/blob/master/examples/meteorites.ipynb'\n",
    "requests.get(url)\n",
    "\n",
    "load_dotenv()\n",
    "API_KEY = os.getenv('NASDAQ_API_KEY')"
   ]
  }
 ],
 "metadata": {
  "interpreter": {
   "hash": "65c0b1f2b45b608013248919525e662eef5a66382576c33443ac27a0afdd87d2"
  },
  "kernelspec": {
   "display_name": "Python 3.10.0 64-bit ('springboard': conda)",
   "language": "python",
   "name": "python3"
  },
  "language_info": {
   "codemirror_mode": {
    "name": "ipython",
    "version": 3
   },
   "file_extension": ".py",
   "mimetype": "text/x-python",
   "name": "python",
   "nbconvert_exporter": "python",
   "pygments_lexer": "ipython3",
   "version": "3.9.7"
  },
  "orig_nbformat": 4
 },
 "nbformat": 4,
 "nbformat_minor": 2
}
