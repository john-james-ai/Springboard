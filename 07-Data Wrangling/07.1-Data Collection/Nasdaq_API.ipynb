{
 "cells": [
  {
   "cell_type": "markdown",
   "metadata": {},
   "source": [
    "# Nasdaq API  (DEPRECATED)\n",
    "For this mini project, we will focus on equities data from the Frankfurt Stock Exhange (FSE), which is available for free. Using the [Nasdaq Data API](https://docs.data.nasdaq.com/docs/in-depth-usage), we'll analyze the stock prices of a company called [Carl Zeiss Meditec](ttps://www.zeiss.com/meditec/int/home.html), which manufactures tools for eye examinations, as well as medical lasers for laser eye surgery. The company is listed under the stock ticker AFX_X.\n",
    "\n",
    "> **Note: This free version of the Frankfurt Stock Exchange API has been deprecated.**\n",
    "\n",
    "## Project Objectives\n",
    "These are the tasks required for this mini project.\n",
    "1. Collect data from the Franfurt Stock Exchange, for the ticker AFX_X, for the whole year 2017 (keep in mind that the date format is YYYY-MM-DD).\n",
    "2. Convert the returned JSON object into a Python dictionary.\n",
    "3. Calculate what the highest and lowest opening prices were for the stock in this period.\n",
    "4. What was the largest change in any one day (based on High and Low price)?\n",
    "5. What was the largest change between any two days (based on Closing Price)?\n",
    "6. What was the average daily trading volume during this year?\n",
    "7. (Optional) What was the median trading volume during this year. (Note: you may need to implement your own function for calculating the median.)\n",
    "Nasdaq Data has a large number of data sources, but, unfortunately, most of them require a Premium subscription. Still, there are also a good number of free datasets.\n",
    "\n",
    "## Project Instructions \n",
    "The following outlines the requirements:\n",
    "1. Use the [requests](http://docs.python-requests.org/en/master/) to obtain information from the site.\n",
    "2. Use standard Python data structures; no third party packages such as pandas.\n",
    "3. The instructions for the [Nasdaq API](https://docs.data.nasdaq.com/docs/in-depth-usage)\n",
    "4. API's can change with each version. For this project, we will be using [Nasdaq API V3](https://data.nasdaq.com/api/v3/). This is the same API as that from [quandl](https://www.quandl.com/api/v3/).\n",
    "\n",
    "## Project Rubric\n",
    "**Completion** \n",
    "- The code runs successfully.\n",
    "\n",
    "**Process and understanding**\n",
    "- The submission shows that the correct solutions to the 6 mandatory problems are produced.\n",
    "- The code in the submission is well commented\n",
    "- The submission demonstrates understanding of each part of the solution.\n",
    "\n",
    "**Presentation**\n",
    "- The project is delivered in a Jupyter notebook and uploaded to GitHub. \n",
    "- The project doesn't contain any unnecessary printouts.\n",
    "\n",
    "**Bonus**\n",
    "Student solves the 7th optional task, uses list comprehensions in their code, and abstracts certain pieces of the solutions into separate functions (i.e. extracting the index of a data field)."
   ]
  },
  {
   "cell_type": "code",
   "execution_count": 1,
   "metadata": {},
   "outputs": [],
   "source": [
    "# get api key from your .env file\n",
    "import os\n",
    "from dotenv import load_dotenv\n",
    "import requests\n",
    "from requests.exceptions import HTTPError\n",
    "from requests.auth import HTTPBasicAuth\n",
    "\n",
    "load_dotenv()\n",
    "API_KEY = os.getenv('NASDAQ_API_KEY')"
   ]
  },
  {
   "cell_type": "code",
   "execution_count": 2,
   "metadata": {},
   "outputs": [],
   "source": [
    "def get_data(url: str, start_date: str = None, end_date: str = None) -> requests.Response:\n",
    "    \"\"\"Obtains data from the URL using the requests module.\n",
    "    Arguments:\n",
    "        url\n",
    "    \"\"\"\n",
    "    try:\n",
    "        params = {'start_date':start_date,'end_date': end_date, 'api_key': API_KEY}\n",
    "        auth = HTTPBasicAuth('api_key', API_KEY)\n",
    "        response = requests.get(url, params=params)\n",
    "        return response\n",
    "    except HTTPError as e:\n",
    "        print(\"HTTP Error {}\".format(e))\n",
    "    except Exception as e:\n",
    "        print(e)"
   ]
  },
  {
   "cell_type": "code",
   "execution_count": 3,
   "metadata": {},
   "outputs": [
    {
     "name": "stdout",
     "output_type": "stream",
     "text": [
      "<Response [403]>\n"
     ]
    }
   ],
   "source": [
    "# Obtain 2017 data for AFX_X\n",
    "url = 'https://data.nasdaq.com/api/v3/datasets/XFRA/AFX'\n",
    "start_date = '2017-01-01'\n",
    "end_date = '2017-12-31'\n",
    "response = get_data(url,start_date, end_date)\n",
    "print(response)"
   ]
  }
 ],
 "metadata": {
  "interpreter": {
   "hash": "65c0b1f2b45b608013248919525e662eef5a66382576c33443ac27a0afdd87d2"
  },
  "kernelspec": {
   "display_name": "Python 3.10.0 64-bit ('springboard': conda)",
   "language": "python",
   "name": "python3"
  },
  "language_info": {
   "codemirror_mode": {
    "name": "ipython",
    "version": 3
   },
   "file_extension": ".py",
   "mimetype": "text/x-python",
   "name": "python",
   "nbconvert_exporter": "python",
   "pygments_lexer": "ipython3",
   "version": "3.9.7"
  },
  "orig_nbformat": 4
 },
 "nbformat": 4,
 "nbformat_minor": 2
}
